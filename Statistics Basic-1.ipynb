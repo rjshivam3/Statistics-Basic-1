{
 "cells": [
  {
   "cell_type": "markdown",
   "id": "343d6920-865f-4fb5-a0dd-b1f8e277661a",
   "metadata": {},
   "source": [
    "## Q1. What is Statistics?"
   ]
  },
  {
   "cell_type": "markdown",
   "id": "a2a2d9ea-1736-41b8-9ce2-941a9e8ed754",
   "metadata": {},
   "source": [
    "Statistics is a branch of mathematics that involves the collection, analysis, interpretation, presentation, and organization of data. It is used to summarize data and infer properties of an underlying population from a sample."
   ]
  },
  {
   "cell_type": "markdown",
   "id": "38245f9c-48f9-4d0e-a816-f74f7abd7025",
   "metadata": {},
   "source": [
    "## Q2. Define the Different Types of Statistics and Give an Example of When Each Type Might Be Used"
   ]
  },
  {
   "cell_type": "markdown",
   "id": "2be1cb6e-c427-40f7-bf88-67969f82d4b9",
   "metadata": {},
   "source": [
    "Descriptive Statistics: This type summarizes and describes the features of a dataset. It includes measures like mean, median, mode, range, and standard deviation.\n",
    "\n",
    "Example: A company analyzing the average sales data of their products for the past year.\n",
    "Inferential Statistics: This type makes inferences and predictions about a population based on a sample of data drawn from it. It includes techniques like hypothesis testing, confidence intervals, and regression analysis.\n",
    "\n",
    "Example: A pharmaceutical company testing the effectiveness of a new drug by conducting trials on a sample of patients and inferring the results to the entire population."
   ]
  },
  {
   "cell_type": "markdown",
   "id": "0db924bb-ed4c-4959-ad6d-001214b15e5e",
   "metadata": {},
   "source": [
    "## Q3. What are the Different Types of Data and How Do They Differ from Each Other? Provide an Example of Each Type of Data"
   ]
  },
  {
   "cell_type": "markdown",
   "id": "33e4d74e-7fe5-4024-ae14-c3773f2239b3",
   "metadata": {},
   "source": [
    "Data can be classified into two main types: qualitative and quantitative.\n",
    "\n",
    "Qualitative Data (Categorical Data): This type describes qualities or characteristics. It can be divided into:\n",
    "\n",
    "Nominal Data: Categories with no intrinsic ordering. Example: Colors of mangoes (yellow, green, orange, red).\n",
    "Ordinal Data: Categories with a meaningful order. Example: Grading in an exam (A+, A, B+, B, C+, C, D, E).\n",
    "Quantitative Data (Numerical Data): This type involves numbers and can be further divided into:\n",
    "\n",
    "Discrete Data: Countable numbers. Example: Number of mangoes exported by a farm ([500, 600, 478, 672]).\n",
    "Continuous Data: Measurable quantities that can take any value within a range. Example: Height data of a class ([178.9, 179, 179.5, 176, 177.2, 178.3, 175.8])."
   ]
  },
  {
   "cell_type": "markdown",
   "id": "594d497c-a8c7-424e-814f-40bfdb755db1",
   "metadata": {},
   "source": [
    "## Q4. Categorise the Following Datasets with Respect to Quantitative and Qualitative Data Types"
   ]
  },
  {
   "cell_type": "markdown",
   "id": "5fd97724-dc5f-4016-9410-3fcfcfd5c5ad",
   "metadata": {},
   "source": [
    "(i) Grading in exam: A+, A, B+, B, C+, C, D, E\n",
    "\n",
    "Qualitative (Ordinal)\n",
    "\n",
    "(ii) Colour of mangoes: yellow, green, orange, red\n",
    "\n",
    "Qualitative (Nominal)\n",
    "\n",
    "(iii) Height data of a class: [178.9, 179, 179.5, 176, 177.2, 178.3, 175.8,...]\n",
    "\n",
    "Quantitative (Continuous)\n",
    "\n",
    "(iv) Number of mangoes exported by a farm: [500, 600, 478, 672, ...]\n",
    "\n",
    "Quantitative (Discrete)"
   ]
  },
  {
   "cell_type": "markdown",
   "id": "594457c4-4566-4b67-8df8-b30f1100a38f",
   "metadata": {},
   "source": [
    "## Q5. Explain the Concept of Levels of Measurement and Give an Example of a Variable for Each Level"
   ]
  },
  {
   "cell_type": "markdown",
   "id": "bdf2831c-cbb5-491e-8993-8f20b5b1a883",
   "metadata": {},
   "source": [
    "Levels of measurement describe the nature of information within the values assigned to variables. There are four levels:\n",
    "\n",
    "Nominal: Categories without a natural order.\n",
    "\n",
    "Example: Types of fruit (apple, banana, cherry).\n",
    "\n",
    "Ordinal: Categories with a meaningful order but no uniform scale.\n",
    "\n",
    "Example: Movie ratings (poor, fair, good, excellent).\n",
    "\n",
    "Interval: Ordered categories with equal intervals between values, but no true zero.\n",
    "\n",
    "Example: Temperature in Celsius (10°C, 20°C, 30°C).\n",
    "\n",
    "Ratio: Ordered categories with equal intervals and a true zero point.\n",
    "\n",
    "Example: Weight (0 kg, 50 kg, 100 kg)."
   ]
  },
  {
   "cell_type": "markdown",
   "id": "238d5aab-78b3-4ca4-868d-d826059e5a77",
   "metadata": {},
   "source": [
    "## Q6. Why is it Important to Understand the Level of Measurement When Analyzing Data? Provide an Example to Illustrate Your Answer"
   ]
  },
  {
   "cell_type": "markdown",
   "id": "78eed917-85af-42e4-9f50-482277911464",
   "metadata": {},
   "source": [
    "Understanding the level of measurement is crucial because it determines the types of statistical analyses that are appropriate. For instance, you can calculate the mean for interval and ratio data, but not for nominal or ordinal data.\n",
    "\n",
    "Example: If we have ordinal data like customer satisfaction ratings (poor, fair, good, excellent), calculating an average rating number wouldn't be meaningful. Instead, we might use median or mode to summarize the data."
   ]
  },
  {
   "cell_type": "markdown",
   "id": "caa7db3b-90f3-4e4f-bc60-7252eac4a7cd",
   "metadata": {},
   "source": [
    "## Q7. How Nominal Data Type is Different from Ordinal Data Type"
   ]
  },
  {
   "cell_type": "markdown",
   "id": "fff7bd19-b17a-4bd1-9ea5-da9fa666972a",
   "metadata": {},
   "source": [
    "Nominal Data: Consists of categories without a specific order.\n",
    "\n",
    "Example: Types of pets (dog, cat, fish).\n",
    "\n",
    "Ordinal Data: Consists of categories with a specific order.\n",
    "\n",
    "Example: Education level (high school, bachelor's, master's, PhD)."
   ]
  },
  {
   "cell_type": "markdown",
   "id": "762ee3ed-4be9-41b7-9168-fb93079b8216",
   "metadata": {},
   "source": [
    "## Q8. Which Type of Plot Can Be Used to Display Data in Terms of Range?"
   ]
  },
  {
   "cell_type": "markdown",
   "id": "bc91b7c8-8559-40d6-bd23-de873b779bbb",
   "metadata": {},
   "source": [
    "A box plot (box-and-whisker plot) can be used to display data in terms of range. It shows the minimum, first quartile, median, third quartile, and maximum of a dataset."
   ]
  },
  {
   "cell_type": "markdown",
   "id": "56803e7c-175c-468c-963f-e47dec22a2dc",
   "metadata": {},
   "source": [
    "## Q9. Describe the Difference Between Descriptive and Inferential Statistics. Give an Example of Each Type of Statistics and Explain How They Are Used"
   ]
  },
  {
   "cell_type": "markdown",
   "id": "2b30a633-9fac-44f7-9323-e361258fdef3",
   "metadata": {},
   "source": [
    "Descriptive Statistics: Summarize and describe the characteristics of a dataset.\n",
    "\n",
    "Example: Calculating the average score of students in a class. It provides a summary of the data without making predictions or generalizations.\n",
    "\n",
    "Inferential Statistics: Make inferences and generalizations about a population based on a sample of data.\n",
    "\n",
    "Example: Using a sample of voters to predict the outcome of an election. It allows making predictions and testing hypotheses about a population."
   ]
  },
  {
   "cell_type": "markdown",
   "id": "b2799439-065d-4c99-9659-4857231e6a3b",
   "metadata": {},
   "source": [
    "## Q10. What are Some Common Measures of Central Tendency and Variability Used in Statistics? Explain How Each Measure Can Be Used to Describe a Dataset"
   ]
  },
  {
   "cell_type": "markdown",
   "id": "b0df815d-7b6f-4b49-b802-cf4399d22286",
   "metadata": {},
   "source": [
    "Measures of Central Tendency:\n",
    "\n",
    "Mean: The average of all data points. It gives a central value of the dataset.\n",
    "\n",
    "Example: Average income of residents in a city.\n",
    "\n",
    "Median: The middle value when the data points are ordered. It is useful when the dataset contains outliers.\n",
    "\n",
    "Example: Median house price in a neighborhood.\n",
    "\n",
    "Mode: The most frequently occurring value in the dataset. It is useful for categorical data.\n",
    "\n",
    "Example: Most common blood type among a group of people.\n",
    "\n",
    "Measures of Variability:\n",
    "\n",
    "Range: The difference between the maximum and minimum values. It gives a measure of how spread out the data is.\n",
    "\n",
    "Example: Range of ages in a classroom.\n",
    "\n",
    "Variance: The average of the squared differences from the mean. It gives a measure of the dispersion of the data points.\n",
    "\n",
    "Example: Variance in test scores of students.\n",
    "\n",
    "Standard Deviation: The square root of the variance. It provides a measure of the average distance of each data point from the mean.\n",
    "\n",
    "Example: Standard deviation of heights in a population.\n",
    "\n",
    "\n",
    "\n",
    "\n"
   ]
  },
  {
   "cell_type": "code",
   "execution_count": null,
   "id": "01d961c6-2354-43ad-b3e2-e74c59254996",
   "metadata": {},
   "outputs": [],
   "source": []
  }
 ],
 "metadata": {
  "kernelspec": {
   "display_name": "Python 3 (ipykernel)",
   "language": "python",
   "name": "python3"
  },
  "language_info": {
   "codemirror_mode": {
    "name": "ipython",
    "version": 3
   },
   "file_extension": ".py",
   "mimetype": "text/x-python",
   "name": "python",
   "nbconvert_exporter": "python",
   "pygments_lexer": "ipython3",
   "version": "3.10.8"
  }
 },
 "nbformat": 4,
 "nbformat_minor": 5
}
